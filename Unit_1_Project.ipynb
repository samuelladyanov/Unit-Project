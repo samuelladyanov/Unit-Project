{
  "cells": [
    {
      "cell_type": "code",
      "execution_count": null,
      "metadata": {
        "colab": {
          "background_save": true
        },
        "id": "weEst-BBGq4B"
      },
      "outputs": [],
      "source": [
        "#Loading CSV File from local drive\n",
        "import pandas as pd\n",
        "from google.colab import files\n",
        "import io\n",
        "\n",
        "uploaded = files.upload()\n",
        "\n",
        "df = pd.read_csv(io.BytesIO(uploaded['vgsales.csv']))\n",
        "\n",
        "df.head()\n"
      ]
    },
    {
      "cell_type": "code",
      "execution_count": null,
      "metadata": {
        "id": "uaCBe9JOHFjS"
      },
      "outputs": [],
      "source": [
        "#Observing Null Values and dropping them\n",
        "df.isnull().sum()\n",
        "df.dropna(how= 'any', inplace= True)\n",
        "\n",
        "#Dropping unneccesary columns and rows in order to give a better visual for what we are testing in our hypothesis\n",
        "\n",
        "df1= df.drop(['Platform', 'Year', 'Publisher'], axis = 1)\n",
        "\n",
        "df1= df1[(df1['Genre'] == 'Shooter') | (df1['Genre'] == 'Action')]\n",
        "\n",
        "df1.sort_index(inplace = True)\n"
      ]
    },
    {
      "cell_type": "code",
      "execution_count": null,
      "metadata": {
        "id": "RoeXIh77O2Yk"
      },
      "outputs": [],
      "source": [
        "# Setting up seperate dataframes in order to fit our two-sample t-test \n",
        "\n",
        "ACT = df1[df1['Genre'] == 'Action']\n",
        "SH  = df1[df1['Genre'] == 'Shooter']\n",
        "\n",
        "\n",
        "ACT_Sales = pd.DataFrame(ACT['Global_Sales'])\n",
        "SH_Sales =  pd.DataFrame(SH['Global_Sales'])\n",
        "\n"
      ]
    },
    {
      "cell_type": "code",
      "execution_count": null,
      "metadata": {
        "colab": {
          "base_uri": "https://localhost:8080/",
          "height": 204
        },
        "id": "KiF3krUzJ5at",
        "outputId": "0366bd69-0a0d-4dd8-972a-1d431fdde191"
      },
      "outputs": [
        {
          "data": {
            "text/html": [
              "<div>\n",
              "<style scoped>\n",
              "    .dataframe tbody tr th:only-of-type {\n",
              "        vertical-align: middle;\n",
              "    }\n",
              "\n",
              "    .dataframe tbody tr th {\n",
              "        vertical-align: top;\n",
              "    }\n",
              "\n",
              "    .dataframe thead th {\n",
              "        text-align: right;\n",
              "    }\n",
              "</style>\n",
              "<table border=\"1\" class=\"dataframe\">\n",
              "  <thead>\n",
              "    <tr style=\"text-align: right;\">\n",
              "      <th></th>\n",
              "      <th>Rank</th>\n",
              "      <th>Name</th>\n",
              "      <th>Genre</th>\n",
              "      <th>NA_Sales</th>\n",
              "      <th>EU_Sales</th>\n",
              "      <th>JP_Sales</th>\n",
              "      <th>Other_Sales</th>\n",
              "      <th>Global_Sales</th>\n",
              "    </tr>\n",
              "  </thead>\n",
              "  <tbody>\n",
              "    <tr>\n",
              "      <th>9</th>\n",
              "      <td>10</td>\n",
              "      <td>Duck Hunt</td>\n",
              "      <td>Shooter</td>\n",
              "      <td>26.93</td>\n",
              "      <td>0.63</td>\n",
              "      <td>0.28</td>\n",
              "      <td>0.47</td>\n",
              "      <td>28.31</td>\n",
              "    </tr>\n",
              "    <tr>\n",
              "      <th>16</th>\n",
              "      <td>17</td>\n",
              "      <td>Grand Theft Auto V</td>\n",
              "      <td>Action</td>\n",
              "      <td>7.01</td>\n",
              "      <td>9.27</td>\n",
              "      <td>0.97</td>\n",
              "      <td>4.14</td>\n",
              "      <td>21.40</td>\n",
              "    </tr>\n",
              "    <tr>\n",
              "      <th>17</th>\n",
              "      <td>18</td>\n",
              "      <td>Grand Theft Auto: San Andreas</td>\n",
              "      <td>Action</td>\n",
              "      <td>9.43</td>\n",
              "      <td>0.40</td>\n",
              "      <td>0.41</td>\n",
              "      <td>10.57</td>\n",
              "      <td>20.81</td>\n",
              "    </tr>\n",
              "    <tr>\n",
              "      <th>23</th>\n",
              "      <td>24</td>\n",
              "      <td>Grand Theft Auto V</td>\n",
              "      <td>Action</td>\n",
              "      <td>9.63</td>\n",
              "      <td>5.31</td>\n",
              "      <td>0.06</td>\n",
              "      <td>1.38</td>\n",
              "      <td>16.38</td>\n",
              "    </tr>\n",
              "    <tr>\n",
              "      <th>24</th>\n",
              "      <td>25</td>\n",
              "      <td>Grand Theft Auto: Vice City</td>\n",
              "      <td>Action</td>\n",
              "      <td>8.41</td>\n",
              "      <td>5.49</td>\n",
              "      <td>0.47</td>\n",
              "      <td>1.78</td>\n",
              "      <td>16.15</td>\n",
              "    </tr>\n",
              "  </tbody>\n",
              "</table>\n",
              "</div>"
            ],
            "text/plain": [
              "    Rank                           Name  ... Other_Sales  Global_Sales\n",
              "9     10                      Duck Hunt  ...        0.47         28.31\n",
              "16    17             Grand Theft Auto V  ...        4.14         21.40\n",
              "17    18  Grand Theft Auto: San Andreas  ...       10.57         20.81\n",
              "23    24             Grand Theft Auto V  ...        1.38         16.38\n",
              "24    25    Grand Theft Auto: Vice City  ...        1.78         16.15\n",
              "\n",
              "[5 rows x 8 columns]"
            ]
          },
          "execution_count": 108,
          "metadata": {},
          "output_type": "execute_result"
        }
      ],
      "source": [
        ""
      ]
    },
    {
      "cell_type": "code",
      "execution_count": null,
      "metadata": {
        "colab": {
          "base_uri": "https://localhost:8080/",
          "height": 297
        },
        "id": "FPqrI-kaQEOK",
        "outputId": "6b8f9702-03d1-4765-84c7-74c7e1a9f506"
      },
      "outputs": [
        {
          "data": {
            "text/html": [
              "<div>\n",
              "<style scoped>\n",
              "    .dataframe tbody tr th:only-of-type {\n",
              "        vertical-align: middle;\n",
              "    }\n",
              "\n",
              "    .dataframe tbody tr th {\n",
              "        vertical-align: top;\n",
              "    }\n",
              "\n",
              "    .dataframe thead th {\n",
              "        text-align: right;\n",
              "    }\n",
              "</style>\n",
              "<table border=\"1\" class=\"dataframe\">\n",
              "  <thead>\n",
              "    <tr style=\"text-align: right;\">\n",
              "      <th></th>\n",
              "      <th>Global_Sales</th>\n",
              "    </tr>\n",
              "  </thead>\n",
              "  <tbody>\n",
              "    <tr>\n",
              "      <th>count</th>\n",
              "      <td>3251.000000</td>\n",
              "    </tr>\n",
              "    <tr>\n",
              "      <th>mean</th>\n",
              "      <td>0.529942</td>\n",
              "    </tr>\n",
              "    <tr>\n",
              "      <th>std</th>\n",
              "      <td>1.165238</td>\n",
              "    </tr>\n",
              "    <tr>\n",
              "      <th>min</th>\n",
              "      <td>0.010000</td>\n",
              "    </tr>\n",
              "    <tr>\n",
              "      <th>25%</th>\n",
              "      <td>0.070000</td>\n",
              "    </tr>\n",
              "    <tr>\n",
              "      <th>50%</th>\n",
              "      <td>0.190000</td>\n",
              "    </tr>\n",
              "    <tr>\n",
              "      <th>75%</th>\n",
              "      <td>0.500000</td>\n",
              "    </tr>\n",
              "    <tr>\n",
              "      <th>max</th>\n",
              "      <td>21.400000</td>\n",
              "    </tr>\n",
              "  </tbody>\n",
              "</table>\n",
              "</div>"
            ],
            "text/plain": [
              "       Global_Sales\n",
              "count   3251.000000\n",
              "mean       0.529942\n",
              "std        1.165238\n",
              "min        0.010000\n",
              "25%        0.070000\n",
              "50%        0.190000\n",
              "75%        0.500000\n",
              "max       21.400000"
            ]
          },
          "execution_count": 79,
          "metadata": {},
          "output_type": "execute_result"
        }
      ],
      "source": [
        "ACT_Sales.describe()"
      ]
    },
    {
      "cell_type": "code",
      "execution_count": null,
      "metadata": {
        "colab": {
          "base_uri": "https://localhost:8080/",
          "height": 297
        },
        "id": "u5DbgB97Tc3o",
        "outputId": "53cc4fae-d283-4805-f485-87b95451a20d"
      },
      "outputs": [
        {
          "data": {
            "text/html": [
              "<div>\n",
              "<style scoped>\n",
              "    .dataframe tbody tr th:only-of-type {\n",
              "        vertical-align: middle;\n",
              "    }\n",
              "\n",
              "    .dataframe tbody tr th {\n",
              "        vertical-align: top;\n",
              "    }\n",
              "\n",
              "    .dataframe thead th {\n",
              "        text-align: right;\n",
              "    }\n",
              "</style>\n",
              "<table border=\"1\" class=\"dataframe\">\n",
              "  <thead>\n",
              "    <tr style=\"text-align: right;\">\n",
              "      <th></th>\n",
              "      <th>Global_Sales</th>\n",
              "    </tr>\n",
              "  </thead>\n",
              "  <tbody>\n",
              "    <tr>\n",
              "      <th>count</th>\n",
              "      <td>1282.000000</td>\n",
              "    </tr>\n",
              "    <tr>\n",
              "      <th>mean</th>\n",
              "      <td>0.800468</td>\n",
              "    </tr>\n",
              "    <tr>\n",
              "      <th>std</th>\n",
              "      <td>1.833578</td>\n",
              "    </tr>\n",
              "    <tr>\n",
              "      <th>min</th>\n",
              "      <td>0.010000</td>\n",
              "    </tr>\n",
              "    <tr>\n",
              "      <th>25%</th>\n",
              "      <td>0.080000</td>\n",
              "    </tr>\n",
              "    <tr>\n",
              "      <th>50%</th>\n",
              "      <td>0.230000</td>\n",
              "    </tr>\n",
              "    <tr>\n",
              "      <th>75%</th>\n",
              "      <td>0.740000</td>\n",
              "    </tr>\n",
              "    <tr>\n",
              "      <th>max</th>\n",
              "      <td>28.310000</td>\n",
              "    </tr>\n",
              "  </tbody>\n",
              "</table>\n",
              "</div>"
            ],
            "text/plain": [
              "       Global_Sales\n",
              "count   1282.000000\n",
              "mean       0.800468\n",
              "std        1.833578\n",
              "min        0.010000\n",
              "25%        0.080000\n",
              "50%        0.230000\n",
              "75%        0.740000\n",
              "max       28.310000"
            ]
          },
          "execution_count": 80,
          "metadata": {},
          "output_type": "execute_result"
        }
      ],
      "source": [
        "SH_Sales.describe()"
      ]
    },
    {
      "cell_type": "code",
      "execution_count": null,
      "metadata": {
        "colab": {
          "base_uri": "https://localhost:8080/"
        },
        "id": "5Zia6cgSJOaa",
        "outputId": "78e83de4-66da-4314-f832-614c290b4340"
      },
      "outputs": [
        {
          "data": {
            "text/plain": [
              "array(['Sports', 'Platform', 'Racing', 'Role-Playing', 'Puzzle', 'Misc',\n",
              "       'Shooter', 'Simulation', 'Action', 'Fighting', 'Adventure',\n",
              "       'Strategy'], dtype=object)"
            ]
          },
          "execution_count": 117,
          "metadata": {},
          "output_type": "execute_result"
        }
      ],
      "source": [
        "df['Genre'].unique()"
      ]
    },
    {
      "cell_type": "code",
      "execution_count": null,
      "metadata": {
        "colab": {
          "base_uri": "https://localhost:8080/"
        },
        "id": "H3mFbLGyThKH",
        "outputId": "1bb76258-3d1e-4356-8f61-68a9f2cad8da"
      },
      "outputs": [
        {
          "data": {
            "text/plain": [
              "3.6025068155780427e-09"
            ]
          },
          "execution_count": 9,
          "metadata": {},
          "output_type": "execute_result"
        }
      ],
      "source": [
        "# Calculating T and P Value\n",
        "from scipy import stats\n",
        "\n",
        "genre_tval, genre_pval = stats.ttest_ind(ACT_Sales,SH_Sales)\n",
        "\n",
        "genre_pval"
      ]
    },
    {
      "cell_type": "code",
      "execution_count": null,
      "metadata": {
        "id": "gmd0_AJlVb9G"
      },
      "outputs": [],
      "source": [
        "ACT.describe()"
      ]
    },
    {
      "cell_type": "code",
      "execution_count": null,
      "metadata": {
        "colab": {
          "base_uri": "https://localhost:8080/",
          "height": 312
        },
        "id": "L7yAEBERUYFZ",
        "outputId": "84489180-6098-41c5-9ced-1ea5bfff8c4c"
      },
      "outputs": [
        {
          "data": {
            "text/plain": [
              "Text(0.5, 1.0, 'Global Sales by Every Genre')"
            ]
          },
          "execution_count": 126,
          "metadata": {},
          "output_type": "execute_result"
        },
        {
          "data": {
            "image/png": "[encoded data removed]",
            "text/plain": [
              "<Figure size 432x288 with 1 Axes>"
            ]
          },
          "metadata": {},
          "output_type": "display_data"
        }
      ],
      "source": [
        "#Data Visualizations\n",
        "import matplotlib.pyplot as plt\n",
        "import seaborn as sns\n",
        "\n",
        "#plt.bar( 'Genre', 'Global_Sales', data = df1)\n",
        "\n",
        "#plt.xlabel('Genre')\n",
        "#plt.ylabel('Global Copies Sold (Millions)')\n",
        "#plt.title('Shooter/Action Comparision')\n",
        "\n",
        "ax = sns.lineplot(x = 'Genre', y = 'Global_Sales', data = df)\n",
        "ax.set_xticks(df['Genre'].unique()) \n",
        "ax.set_xticklabels(['ADV', 'SH', 'MIS', 'RP', 'STR', 'RP', 'ACT', 'PUZ', 'SPR', 'FGH', 'SIM', 'PLT'])\n",
        "ax.set_yticklabels(['0','5','10','15','20','25'])\n",
        "ax.set_title('Global Sales by Every Genre')\n",
        "\n",
        "\n",
        "\n",
        "\n",
        "\n",
        "\n",
        "\n",
        "\n",
        "\n"
      ]
    },
    {
      "cell_type": "code",
      "execution_count": null,
      "metadata": {
        "id": "NKRuWeMJjHmW"
      },
      "outputs": [],
      "source": [
        ""
      ]
    },
    {
      "cell_type": "code",
      "execution_count": null,
      "metadata": {
        "colab": {
          "base_uri": "https://localhost:8080/",
          "height": 589
        },
        "id": "MefTvkJtsGIv",
        "outputId": "41756b37-1156-4ca4-da69-5de61be23d6b"
      },
      "outputs": [
        {
          "data": {
            "text/html": [
              "<div>\n",
              "<style scoped>\n",
              "    .dataframe tbody tr th:only-of-type {\n",
              "        vertical-align: middle;\n",
              "    }\n",
              "\n",
              "    .dataframe tbody tr th {\n",
              "        vertical-align: top;\n",
              "    }\n",
              "\n",
              "    .dataframe thead th {\n",
              "        text-align: right;\n",
              "    }\n",
              "</style>\n",
              "<table border=\"1\" class=\"dataframe\">\n",
              "  <thead>\n",
              "    <tr style=\"text-align: right;\">\n",
              "      <th></th>\n",
              "      <th>Rank</th>\n",
              "      <th>Name</th>\n",
              "      <th>Platform</th>\n",
              "      <th>Year</th>\n",
              "      <th>Genre</th>\n",
              "      <th>Publisher</th>\n",
              "      <th>NA_Sales</th>\n",
              "      <th>EU_Sales</th>\n",
              "      <th>JP_Sales</th>\n",
              "      <th>Other_Sales</th>\n",
              "      <th>Global_Sales</th>\n",
              "    </tr>\n",
              "  </thead>\n",
              "  <tbody>\n",
              "    <tr>\n",
              "      <th>0</th>\n",
              "      <td>1</td>\n",
              "      <td>Wii Sports</td>\n",
              "      <td>Wii</td>\n",
              "      <td>2006.0</td>\n",
              "      <td>Sports</td>\n",
              "      <td>Nintendo</td>\n",
              "      <td>41.49</td>\n",
              "      <td>29.02</td>\n",
              "      <td>3.77</td>\n",
              "      <td>8.46</td>\n",
              "      <td>82.74</td>\n",
              "    </tr>\n",
              "    <tr>\n",
              "      <th>1</th>\n",
              "      <td>2</td>\n",
              "      <td>Super Mario Bros.</td>\n",
              "      <td>NES</td>\n",
              "      <td>1985.0</td>\n",
              "      <td>Platform</td>\n",
              "      <td>Nintendo</td>\n",
              "      <td>29.08</td>\n",
              "      <td>3.58</td>\n",
              "      <td>6.81</td>\n",
              "      <td>0.77</td>\n",
              "      <td>40.24</td>\n",
              "    </tr>\n",
              "    <tr>\n",
              "      <th>2</th>\n",
              "      <td>3</td>\n",
              "      <td>Mario Kart Wii</td>\n",
              "      <td>Wii</td>\n",
              "      <td>2008.0</td>\n",
              "      <td>Racing</td>\n",
              "      <td>Nintendo</td>\n",
              "      <td>15.85</td>\n",
              "      <td>12.88</td>\n",
              "      <td>3.79</td>\n",
              "      <td>3.31</td>\n",
              "      <td>35.82</td>\n",
              "    </tr>\n",
              "    <tr>\n",
              "      <th>3</th>\n",
              "      <td>4</td>\n",
              "      <td>Wii Sports Resort</td>\n",
              "      <td>Wii</td>\n",
              "      <td>2009.0</td>\n",
              "      <td>Sports</td>\n",
              "      <td>Nintendo</td>\n",
              "      <td>15.75</td>\n",
              "      <td>11.01</td>\n",
              "      <td>3.28</td>\n",
              "      <td>2.96</td>\n",
              "      <td>33.00</td>\n",
              "    </tr>\n",
              "    <tr>\n",
              "      <th>4</th>\n",
              "      <td>5</td>\n",
              "      <td>Pokemon Red/Pokemon Blue</td>\n",
              "      <td>GB</td>\n",
              "      <td>1996.0</td>\n",
              "      <td>Role-Playing</td>\n",
              "      <td>Nintendo</td>\n",
              "      <td>11.27</td>\n",
              "      <td>8.89</td>\n",
              "      <td>10.22</td>\n",
              "      <td>1.00</td>\n",
              "      <td>31.37</td>\n",
              "    </tr>\n",
              "    <tr>\n",
              "      <th>...</th>\n",
              "      <td>...</td>\n",
              "      <td>...</td>\n",
              "      <td>...</td>\n",
              "      <td>...</td>\n",
              "      <td>...</td>\n",
              "      <td>...</td>\n",
              "      <td>...</td>\n",
              "      <td>...</td>\n",
              "      <td>...</td>\n",
              "      <td>...</td>\n",
              "      <td>...</td>\n",
              "    </tr>\n",
              "    <tr>\n",
              "      <th>95</th>\n",
              "      <td>96</td>\n",
              "      <td>Crash Bandicoot 2: Cortex Strikes Back</td>\n",
              "      <td>PS</td>\n",
              "      <td>1997.0</td>\n",
              "      <td>Platform</td>\n",
              "      <td>Sony Computer Entertainment</td>\n",
              "      <td>3.78</td>\n",
              "      <td>2.17</td>\n",
              "      <td>1.31</td>\n",
              "      <td>0.31</td>\n",
              "      <td>7.58</td>\n",
              "    </tr>\n",
              "    <tr>\n",
              "      <th>96</th>\n",
              "      <td>97</td>\n",
              "      <td>Super Mario Bros. 2</td>\n",
              "      <td>NES</td>\n",
              "      <td>1988.0</td>\n",
              "      <td>Platform</td>\n",
              "      <td>Nintendo</td>\n",
              "      <td>5.39</td>\n",
              "      <td>1.18</td>\n",
              "      <td>0.70</td>\n",
              "      <td>0.19</td>\n",
              "      <td>7.46</td>\n",
              "    </tr>\n",
              "    <tr>\n",
              "      <th>97</th>\n",
              "      <td>98</td>\n",
              "      <td>Super Smash Bros. for Wii U and 3DS</td>\n",
              "      <td>3DS</td>\n",
              "      <td>2014.0</td>\n",
              "      <td>Fighting</td>\n",
              "      <td>Nintendo</td>\n",
              "      <td>3.24</td>\n",
              "      <td>1.35</td>\n",
              "      <td>2.42</td>\n",
              "      <td>0.43</td>\n",
              "      <td>7.45</td>\n",
              "    </tr>\n",
              "    <tr>\n",
              "      <th>98</th>\n",
              "      <td>99</td>\n",
              "      <td>Call of Duty: World at War</td>\n",
              "      <td>X360</td>\n",
              "      <td>2008.0</td>\n",
              "      <td>Shooter</td>\n",
              "      <td>Activision</td>\n",
              "      <td>4.79</td>\n",
              "      <td>1.90</td>\n",
              "      <td>0.00</td>\n",
              "      <td>0.69</td>\n",
              "      <td>7.37</td>\n",
              "    </tr>\n",
              "    <tr>\n",
              "      <th>99</th>\n",
              "      <td>100</td>\n",
              "      <td>Battlefield 3</td>\n",
              "      <td>X360</td>\n",
              "      <td>2011.0</td>\n",
              "      <td>Shooter</td>\n",
              "      <td>Electronic Arts</td>\n",
              "      <td>4.46</td>\n",
              "      <td>2.13</td>\n",
              "      <td>0.06</td>\n",
              "      <td>0.69</td>\n",
              "      <td>7.34</td>\n",
              "    </tr>\n",
              "  </tbody>\n",
              "</table>\n",
              "<p>100 rows × 11 columns</p>\n",
              "</div>"
            ],
            "text/plain": [
              "    Rank                                    Name  ... Other_Sales  Global_Sales\n",
              "0      1                              Wii Sports  ...        8.46         82.74\n",
              "1      2                       Super Mario Bros.  ...        0.77         40.24\n",
              "2      3                          Mario Kart Wii  ...        3.31         35.82\n",
              "3      4                       Wii Sports Resort  ...        2.96         33.00\n",
              "4      5                Pokemon Red/Pokemon Blue  ...        1.00         31.37\n",
              "..   ...                                     ...  ...         ...           ...\n",
              "95    96  Crash Bandicoot 2: Cortex Strikes Back  ...        0.31          7.58\n",
              "96    97                     Super Mario Bros. 2  ...        0.19          7.46\n",
              "97    98     Super Smash Bros. for Wii U and 3DS  ...        0.43          7.45\n",
              "98    99              Call of Duty: World at War  ...        0.69          7.37\n",
              "99   100                           Battlefield 3  ...        0.69          7.34\n",
              "\n",
              "[100 rows x 11 columns]"
            ]
          },
          "execution_count": 130,
          "metadata": {},
          "output_type": "execute_result"
        }
      ],
      "source": [
        "df.head(100)"
      ]
    },
    {
      "cell_type": "code",
      "execution_count": null,
      "metadata": {
        "id": "CDlLibQntmow"
      },
      "outputs": [],
      "source": [
        ""
      ]
    }
  ],
  "metadata": {
    "colab": {
      "name": "Unit_1_Project.ipynb",
      "provenance": []
    },
    "kernelspec": {
      "display_name": "Python 3",
      "name": "python3"
    },
    "language_info": {
      "name": "python"
    }
  },
  "nbformat": 4,
  "nbformat_minor": 0
}